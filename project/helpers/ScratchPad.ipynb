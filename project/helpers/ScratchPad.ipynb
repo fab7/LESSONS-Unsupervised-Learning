{
 "cells": [
  {
   "cell_type": "code",
   "execution_count": 2,
   "metadata": {},
   "outputs": [
    {
     "name": "stdout",
     "output_type": "stream",
     "text": [
      "     A    B   C\n",
      "2  3.0  6.0 NaN\n",
      "     A   B    C\n",
      "0  NaN NaN  7.0\n",
      "1  2.0 NaN  NaN\n",
      "The column names are: Index(['A', 'B', 'C'], dtype='object')\n"
     ]
    }
   ],
   "source": [
    "import pandas as pd\n",
    "import numpy as np\n",
    "\n",
    "# Default DF\n",
    "DF = pd.DataFrame({'A': [1, 2, 3], \n",
    "                   'B': [4, 5, 6], \n",
    "                   'C': [7, 8, 9]})\n",
    "\n",
    "\n",
    "\n",
    "# Create the original DataFrame\n",
    "DF = pd.DataFrame({'A': [np.nan, 2, 3], \n",
    "                   'B': [np.nan, np.nan, 6], \n",
    "                   'C': [7, np.nan, np.nan]})\n",
    "\n",
    "# Create DF_1 with rows containing less than two NaNs\n",
    "DF_1 = DF[DF.isnull().sum(axis=1) < 2]\n",
    "\n",
    "# Create DF_2 with rows containing 2 or more NaNs\n",
    "DF_2 = DF[DF.isnull().sum(axis=1) >= 2]\n",
    "\n",
    "print(DF_1)\n",
    "print(DF_2)\n",
    "\n",
    "# Retrieve the column names\n",
    "column_names = DF.columns\n",
    "# Print the column names\n",
    "print(f\"The column names are: {column_names}\")\n"
   ]
  },
  {
   "cell_type": "code",
   "execution_count": 4,
   "metadata": {},
   "outputs": [
    {
     "name": "stdout",
     "output_type": "stream",
     "text": [
      "   A  B\n",
      "2  z  1\n",
      "0  x  2\n",
      "1  y  3\n"
     ]
    }
   ],
   "source": [
    "DF = pd.DataFrame({'A': ['x', 'y', 'z'], 'B': [2, 3, 1]})\n",
    "\n",
    "# Sort the DataFrame by column 'B'\n",
    "sorted_DF = DF.sort_values(by='B')\n",
    "\n",
    "print(sorted_DF)"
   ]
  },
  {
   "cell_type": "code",
   "execution_count": 3,
   "metadata": {},
   "outputs": [
    {
     "name": "stdout",
     "output_type": "stream",
     "text": [
      "    A  B   C   D\n",
      "0  13  5   9  13\n",
      "1  14  6  10  14\n",
      "2  15  7  11  15\n",
      "3  16  8  12  16\n"
     ]
    }
   ],
   "source": [
    "\n",
    "data = {'A': [1, 2, 3, 4],\n",
    "        'B': [5, 6, 7, 8],\n",
    "        'C': [9, 10, 11, 12],\n",
    "        'D': [13, 14, 15, 16]}\n",
    "df = pd.DataFrame(data)\n",
    "\n",
    "# Copy values from column D to column A\n",
    "df['A'] = df['D']\n",
    "\n",
    "# Print the updated DataFrame\n",
    "print(df)"
   ]
  },
  {
   "cell_type": "code",
   "execution_count": 14,
   "metadata": {},
   "outputs": [
    {
     "name": "stdout",
     "output_type": "stream",
     "text": [
      "This if DF without columns:\n",
      "     0   1   2\n",
      "0  10  20  30\n",
      "1  40  50  60\n",
      "2  70  80  90 \n",
      "\n",
      "This if DF with columns:\n",
      "     A   B   C\n",
      "0  10  20  30\n",
      "1  40  50  60\n",
      "2  70  80  90 \n",
      "\n"
     ]
    },
    {
     "data": {
      "text/html": [
       "<div>\n",
       "<style scoped>\n",
       "    .dataframe tbody tr th:only-of-type {\n",
       "        vertical-align: middle;\n",
       "    }\n",
       "\n",
       "    .dataframe tbody tr th {\n",
       "        vertical-align: top;\n",
       "    }\n",
       "\n",
       "    .dataframe thead th {\n",
       "        text-align: right;\n",
       "    }\n",
       "</style>\n",
       "<table border=\"1\" class=\"dataframe\">\n",
       "  <thead>\n",
       "    <tr style=\"text-align: right;\">\n",
       "      <th></th>\n",
       "      <th>A</th>\n",
       "      <th>B</th>\n",
       "      <th>C</th>\n",
       "    </tr>\n",
       "  </thead>\n",
       "  <tbody>\n",
       "    <tr>\n",
       "      <th>0</th>\n",
       "      <td>10</td>\n",
       "      <td>20</td>\n",
       "      <td>30</td>\n",
       "    </tr>\n",
       "    <tr>\n",
       "      <th>1</th>\n",
       "      <td>40</td>\n",
       "      <td>50</td>\n",
       "      <td>60</td>\n",
       "    </tr>\n",
       "    <tr>\n",
       "      <th>2</th>\n",
       "      <td>70</td>\n",
       "      <td>80</td>\n",
       "      <td>90</td>\n",
       "    </tr>\n",
       "  </tbody>\n",
       "</table>\n",
       "</div>"
      ],
      "text/plain": [
       "    A   B   C\n",
       "0  10  20  30\n",
       "1  40  50  60\n",
       "2  70  80  90"
      ]
     },
     "execution_count": 14,
     "metadata": {},
     "output_type": "execute_result"
    }
   ],
   "source": [
    "# Create the NumPy array\n",
    "N = np.array([[10, 20, 30],\n",
    "              [40, 50, 60],\n",
    "              [70, 80, 90]])\n",
    "\n",
    "# Create the DataFrame\n",
    "DF = pd.DataFrame({'A': [1, 2, 3],\n",
    "                   'B': [4, 5, 6],\n",
    "                   'C': [7, 8, 9]})\n",
    "\n",
    "# Assign column names from the DataFrame to the NumPy array\n",
    "DF_N = pd.DataFrame(N)\n",
    "print(f\"This if DF without columns:\\n {DF_N} \\n\")\n",
    "DF_N.columns = DF.columns\n",
    "print(f\"This if DF with columns:\\n {DF_N} \\n\")\n",
    "DF_N\n"
   ]
  },
  {
   "cell_type": "code",
   "execution_count": 17,
   "metadata": {},
   "outputs": [
    {
     "data": {
      "image/png": "[encoded data removed]",
      "text/plain": [
       "<Figure size 640x480 with 1 Axes>"
      ]
     },
     "metadata": {},
     "output_type": "display_data"
    }
   ],
   "source": [
    "import matplotlib.pyplot as plt\n",
    "\n",
    "# Sample data\n",
    "x = [1, 2, 3, 4, 5]\n",
    "y = [10, 20, 15, 25, 30]\n",
    "\n",
    "# Plotting the data\n",
    "plt.plot(x, y)\n",
    "\n",
    "# Rotating the x-axis labels by 45 degrees\n",
    "plt.xticks(rotation=45)\n",
    "\n",
    "# Display the plot\n",
    "plt.show()"
   ]
  },
  {
   "cell_type": "code",
   "execution_count": 20,
   "metadata": {},
   "outputs": [
    {
     "name": "stdout",
     "output_type": "stream",
     "text": [
      "Random Array: [0.04928259 0.70303149 0.44964207 0.58325532 0.6700795 ]\n",
      "Largest Value: 0.7030314887838032\n"
     ]
    }
   ],
   "source": [
    "# Generate a NumPy array with 5 random values\n",
    "random_array = np.random.rand(5)\n",
    "\n",
    "# Find the largest value in the random_array\n",
    "largest_value = np.max(random_array)\n",
    "\n",
    "print(\"Random Array:\", random_array)\n",
    "print(\"Largest Value:\", largest_value)"
   ]
  },
  {
   "cell_type": "code",
   "execution_count": 9,
   "metadata": {},
   "outputs": [
    {
     "name": "stdout",
     "output_type": "stream",
     "text": [
      "     A\n",
      "0   5C\n",
      "1  nan\n",
      "2   9B\n"
     ]
    }
   ],
   "source": [
    "data = {'A': ['5C', 'nan', '9B'] }\n",
    "df = pd.DataFrame(data)\n",
    "\n",
    "# Print the updated DataFrame\n",
    "print(df)"
   ]
  },
  {
   "cell_type": "code",
   "execution_count": 5,
   "metadata": {},
   "outputs": [
    {
     "ename": "NameError",
     "evalue": "name 'i' is not defined",
     "output_type": "error",
     "traceback": [
      "\u001b[0;31m---------------------------------------------------------------------------\u001b[0m",
      "\u001b[0;31mNameError\u001b[0m                                 Traceback (most recent call last)",
      "Cell \u001b[0;32mIn[5], line 1\u001b[0m\n\u001b[0;32m----> 1\u001b[0m data \u001b[39m=\u001b[39m { i: [\u001b[39m'\u001b[39m\u001b[39mA\u001b[39m\u001b[39m'\u001b[39m, \u001b[39m'\u001b[39m\u001b[39mB\u001b[39m\u001b[39m'\u001b[39m],\n\u001b[1;32m      2\u001b[0m          f: [\u001b[39m'\u001b[39m\u001b[39mC\u001b[39m\u001b[39m'\u001b[39m, \u001b[39m'\u001b[39m\u001b[39mD\u001b[39m\u001b[39m'\u001b[39m] }\n\u001b[1;32m      3\u001b[0m df \u001b[39m=\u001b[39m pd\u001b[39m.\u001b[39mDataFrame(data)\n\u001b[1;32m      5\u001b[0m \u001b[39mprint\u001b[39m(data[i])\n",
      "\u001b[0;31mNameError\u001b[0m: name 'i' is not defined"
     ]
    }
   ],
   "source": [
    "data = { i: ['A', 'B'],\n",
    "         f: ['C', 'D'] }\n",
    "df = pd.DataFrame(data)\n",
    "\n",
    "print(data[i])"
   ]
  },
  {
   "cell_type": "code",
   "execution_count": 7,
   "metadata": {},
   "outputs": [
    {
     "data": {
      "text/html": [
       "<div>\n",
       "<style scoped>\n",
       "    .dataframe tbody tr th:only-of-type {\n",
       "        vertical-align: middle;\n",
       "    }\n",
       "\n",
       "    .dataframe tbody tr th {\n",
       "        vertical-align: top;\n",
       "    }\n",
       "\n",
       "    .dataframe thead th {\n",
       "        text-align: right;\n",
       "    }\n",
       "</style>\n",
       "<table border=\"1\" class=\"dataframe\">\n",
       "  <thead>\n",
       "    <tr style=\"text-align: right;\">\n",
       "      <th></th>\n",
       "      <th>Name</th>\n",
       "      <th>Age</th>\n",
       "      <th>City</th>\n",
       "    </tr>\n",
       "  </thead>\n",
       "  <tbody>\n",
       "    <tr>\n",
       "      <th>0</th>\n",
       "      <td>John</td>\n",
       "      <td>25</td>\n",
       "      <td>New York</td>\n",
       "    </tr>\n",
       "    <tr>\n",
       "      <th>1</th>\n",
       "      <td>Alice</td>\n",
       "      <td>30</td>\n",
       "      <td>Paris</td>\n",
       "    </tr>\n",
       "    <tr>\n",
       "      <th>2</th>\n",
       "      <td>Bob</td>\n",
       "      <td>35</td>\n",
       "      <td>London</td>\n",
       "    </tr>\n",
       "    <tr>\n",
       "      <th>3</th>\n",
       "      <td>John</td>\n",
       "      <td>25</td>\n",
       "      <td>New York</td>\n",
       "    </tr>\n",
       "    <tr>\n",
       "      <th>4</th>\n",
       "      <td>Alice</td>\n",
       "      <td>30</td>\n",
       "      <td>Paris</td>\n",
       "    </tr>\n",
       "  </tbody>\n",
       "</table>\n",
       "</div>"
      ],
      "text/plain": [
       "    Name  Age      City\n",
       "0   John   25  New York\n",
       "1  Alice   30     Paris\n",
       "2    Bob   35    London\n",
       "3   John   25  New York\n",
       "4  Alice   30     Paris"
      ]
     },
     "execution_count": 7,
     "metadata": {},
     "output_type": "execute_result"
    }
   ],
   "source": [
    "# Create a DataFrame\n",
    "data = {'Name': ['John', 'Alice', 'Bob', 'John', 'Alice'],\n",
    "        'Age' : [25, 30, 35, 25, 30],\n",
    "        'City': ['New York', 'Paris', 'London', 'New York', 'Paris']}\n",
    "df = pd.DataFrame(data)\n",
    "df"
   ]
  },
  {
   "cell_type": "code",
   "execution_count": 4,
   "metadata": {},
   "outputs": [
    {
     "name": "stdout",
     "output_type": "stream",
     "text": [
      "{'Alice': [1, 4], 'Bob': [2], 'John': [0, 3]}\n",
      "Index([2], dtype='int64')\n"
     ]
    }
   ],
   "source": [
    "# Create a DataFrame\n",
    "data = {'Name': ['John', 'Alice', 'Bob', 'John', 'Alice'],\n",
    "        'Age': [25, 30, 35, 25, 30],\n",
    "        'City': ['New York', 'Paris', 'London', 'New York', 'Paris']}\n",
    "df = pd.DataFrame(data)\n",
    "\n",
    "# Group the DataFrame by the 'Name' column\n",
    "grouped = df.groupby('Name')\n",
    "\n",
    "# Get the groups and their corresponding indices\n",
    "groups = grouped.groups\n",
    "print(groups)\n",
    "print(groups['Bob'])\n",
    "\n"
   ]
  },
  {
   "cell_type": "code",
   "execution_count": null,
   "metadata": {},
   "outputs": [],
   "source": [
    "#####################################################################\n",
    "##  OLD VERSION OF Remove the outlier columns                      ##\n",
    "#####################################################################\n",
    "\n",
    "# Create a copy of the current dataset and feature summary  \n",
    "#  Note: '_roc' stands for Removed Outliers Columns.   \n",
    "azdias_nan_roc = azdias_nan.copy()\n",
    "feat_info_roc = feat_info.copy() \n",
    "\n",
    "# Retrieve the names of the features to remove\n",
    "drop_candidates = (azdias_miss[azdias_miss['missing_values'] >= miss_threshold])\n",
    "\n",
    "# Drop columns\n",
    "for f in drop_candidates.index:\n",
    "    feature = drop_candidates['feature'][f]\n",
    "    if VERBOSE > 0:\n",
    "        print(f\"[INFO] Dropping feature \\'{feature}\\' from the dataset and feature-info.\")\n",
    "    azdias_nan_roc = azdias_nan_roc.drop([feature], axis=1)\n",
    "   \n",
    "    # Remove the corresponding row in the feature summary\n",
    "    feat_info_roc = feat_info_roc.drop(feat_info_roc[feat_info_roc['attribute'] == \n",
    "                                                     feature ].index)    \n",
    "    \n",
    "if VERBOSE > 0:\n",
    "    print(f\"\\n[INFO] The shape of the dataset is now {azdias_nan_roc.shape}\")\n",
    "    print(f\"[INFO] The shape of the feat_info is now {feat_info_roc.shape}\") "
   ]
  },
  {
   "cell_type": "code",
   "execution_count": null,
   "metadata": {},
   "outputs": [],
   "source": [
    "###############################################################################\n",
    "## OLD VERSION  Divide the data into two subsets                             ##\n",
    "#####################################################################\n",
    "\n",
    "# Define a threshold for the split. This threshold specifies the acceptable\n",
    "# number of missing values per row as a percentage of the number of columns.\n",
    "threshold = 32\n",
    "miss_threshold = (int)(azdias_nan_roc.shape[1] * threshold / 100)\n",
    "\n",
    "# Subset with less than 'miss_threshold' NaNs\n",
    "azdias_nan_roc_lo_miss = azdias_nan_roc[azdias_nan_roc.isnull().sum(axis=1) <= miss_threshold]\n",
    "\n",
    "# Subset with more than 'miss_threshold' NaNs\n",
    "azdias_nan_roc_hi_miss = azdias_nan_roc[azdias_nan_roc.isnull().sum(axis=1) > miss_threshold]\n",
    "\n",
    "if VERBOSE > 1:\n",
    "    print(f\"The shape of the 'low'  subset is {azdias_nan_roc_lo_miss.shape}\")\n",
    "    print(f\"The shape of the 'high' subset is {azdias_nan_roc_hi_miss.shape}\")\n",
    "\n"
   ]
  },
  {
   "cell_type": "code",
   "execution_count": null,
   "metadata": {},
   "outputs": [],
   "source": [
    "##################################################################\n",
    "##  OLD VERSION OF Identify the categorical variables           ##\n",
    "##################################################################\n",
    "\n",
    "# List the categorical variables\n",
    "categorical_features = feat_info_roc[feat_info_roc['type'] == 'categorical'].copy()\n",
    "\n",
    "# Add a column with the number of unique values per feature and populate it\n",
    "categorical_features['unique_values'] = 0\n",
    "\n",
    "for index, row in categorical_features.iterrows():\n",
    "    attrib_name = row['attribute']\n",
    "    if attrib_name in azdias_nan_roc_lo_miss:\n",
    "        num_unique = azdias_nan_roc_lo_miss[attrib_name].nunique()\n",
    "        if VERBOSE > 2:\n",
    "            print(f\"Attribute {attrib_name} has {num_unique} unique values\")\n",
    "        categorical_features.loc[index, 'unique_values'] = num_unique\n",
    "\n",
    "# Sort the dataframe by the 'unique_values' column \n",
    "categorical_features = categorical_features.sort_values(by='unique_values', ascending=False)\n",
    "\n",
    "print(f\"This is a summary of the categorical variables and the number of unique values:\")\n",
    "categorical_features"
   ]
  },
  {
   "cell_type": "code",
   "execution_count": null,
   "metadata": {},
   "outputs": [],
   "source": [
    "#############################################################################\n",
    "##  OLD VERSION OF Re-Encoding Categorical Features                        ##\n",
    "#############################################################################\n",
    "df_g2 =   (categorical_features.loc[categorical_features['unique_values'] == 2])\n",
    "\n",
    "df_g3_to_6 = categorical_features.loc[\n",
    "            (categorical_features['unique_values'] >= 3) &\n",
    "            (categorical_features['unique_values'] <= 6)]\n",
    "           \n",
    "# Re-encode members of the group2 (if needed)                   \n",
    "for index, row in df_g2.iterrows():\n",
    "    attrib_name = row['attribute']\n",
    "    column_type = azdias_nan_roc_lo_miss[attrib_name].dtype\n",
    "    # Assess that the feature is a sub dtype of np.number\n",
    "    if not np.issubdtype(column_type, np.number):\n",
    "        print(\"[HOUSTON, We have a problem!!]\")\n",
    "        print(f\"\\tPleased handle the type of the feature \\'{attrib_name}\\' properly as it is currently not a sub-type of np.number.\" )\n",
    "        sys.exit()\n",
    "\n",
    "# Re-encode members of the group3_to_6 \n",
    "#  (here we use pandas.get_dummies() but OneHotEncoder() from Scikit-learn is also an option)\n",
    "for index, row in df_g3_to_6.iterrows():\n",
    "    attrib_name = row['attribute']\n",
    "    column_type = azdias_nan_roc_lo_miss[attrib_name].dtype\n",
    "    # Assess that the feature is a sub dtype of np.number\n",
    "    if not np.issubdtype(column_type, np.number):\n",
    "        print(\"[HOUSTON, We have a problem!!]\")\n",
    "        print(f\"\\tPleased handle the type of the feature \\'{attrib_name}\\' properly as it is currently not a sub-type of np.number.\" )\n",
    "        sys.exit()\n",
    "    ohe = pd.get_dummies(azdias_nan_roc_lo_miss[attrib_name], prefix=attrib_name)\n",
    "    if VERBOSE > 2:\n",
    "        print(f\"The One-Hot-Encoded version of feature \\'{attrib_name}\\' is:\")\n",
    "        print(ohe.head())\n",
    "        print(f\"--------------------------------------------------------\")"
   ]
  },
  {
   "cell_type": "code",
   "execution_count": null,
   "metadata": {},
   "outputs": [],
   "source": [
    "#############################################################################\n",
    "##  OLD VERSION OF Identify the mixed variables                            ##\n",
    "#############################################################################\n",
    "\n",
    "# List the mixed variables\n",
    "mixed_features = feat_info_roc[feat_info_roc['type'] == 'mixed'].copy()\n",
    "\n",
    "# Add a column with the number of unique values per feature and populate it\n",
    "mixed_features['unique_values'] = 0\n",
    "\n",
    "for index, row in mixed_features.iterrows():\n",
    "    attrib_name = row['attribute']\n",
    "    if attrib_name in azdias_nan_roc_lo_miss:\n",
    "        num_unique = azdias_nan_roc_lo_miss[attrib_name].nunique()\n",
    "        if VERBOSE > 2:\n",
    "            print(f\"Attribute {attrib_name} has {num_unique} unique values\")\n",
    "        mixed_features.loc[index, 'unique_values'] = num_unique\n",
    "\n",
    "# Sort the dataframe by the 'unique_values' column \n",
    "mixed_features = mixed_features.sort_values(by='unique_values', ascending=False)\n",
    "\n",
    "print(f\"This is a summary of the mixed variables and the number of unique values:\")\n",
    "mixed_features\n"
   ]
  },
  {
   "cell_type": "code",
   "execution_count": null,
   "metadata": {},
   "outputs": [],
   "source": [
    "####################################################################\n",
    "##  OLD VERSION OF Investigate 'CAMEO_INTL_2015' and engineer two new variables  ##\n",
    "####################################################################\n",
    "\n",
    "# [INFO] The 'CAMEO_INTL_2015' feature combines information on two axes: \n",
    "#  wealth and life stage. This code breaks up the two-digit codes by their\n",
    "#  'tens'-place and 'ones'-place digits into two new ordinal variables named\n",
    "#  'CAMEO_INTL_2015_WEALTH' and 'CAMEO_INTL_2015_LIFE_STAGE'. Futhermore, for\n",
    "#  the purposes of this project, it is OK to just treat them as their raw\n",
    "#  numeric values.\n",
    "\n",
    "# Create a copy of the current dataset and feature summary\n",
    "azdias_nan_roc_lo_miss_mixed = azdias_nan_roc_lo_miss.copy()\n",
    "feat_info_roc_mixed = feat_info_roc.copy()\n",
    " \n",
    "# Substitute the remaining \"XX' strings of feature 'CAMEO_INTL_2015' by NaN\n",
    "azdias_nan_roc_lo_miss_mixed.loc[azdias_nan_roc_lo_miss_mixed['CAMEO_INTL_2015'] == 'XX', 'CAMEO_INTL_2015'] = np.nan\n",
    "# And convert the column to float values\n",
    "azdias_nan_roc_lo_miss_mixed['CAMEO_INTL_2015'] = azdias_nan_roc_lo_miss_mixed['CAMEO_INTL_2015'].astype(float)\n",
    "\n",
    "# Add and populate two new columns in the dataset\n",
    "#OBSOLETE azdias_nan_roc_lo_miss_mixed['CAMEO_INTL_2015_LIVE_STAGE'] = np.nan\n",
    "azdias_nan_roc_lo_miss_mixed['CAMEO_INTL_2015_LIFE_STAGE'] = (azdias_nan_roc_lo_miss_mixed['CAMEO_INTL_2015'].mod(10))\n",
    "\n",
    "#OBSOLETE azdias_nan_roc_lo_miss_mixed['CAMEO_INTL_2015_WEALTH'] = np.nan\n",
    "azdias_nan_roc_lo_miss_mixed['CAMEO_INTL_2015_WEALTH'] = (azdias_nan_roc_lo_miss_mixed['CAMEO_INTL_2015'] -\n",
    "                                                          azdias_nan_roc_lo_miss_mixed['CAMEO_INTL_2015_LIFE_STAGE'])\n",
    "\n",
    "# Drop the obsoleted 'CAMEO_INTL_2015' feature from the dataset\n",
    "azdias_nan_roc_lo_miss_mixed = azdias_nan_roc_lo_miss_mixed.drop('CAMEO_INTL_2015', axis=1)\n",
    "\n",
    "# Accordingly, drop 'CAMEO_INTL_2015' and add two new rows to feature-info \n",
    "feat_info_roc_mixed = feat_info_roc.drop(feat_info_roc_mixed[feat_info_roc_mixed['attribute'] == \n",
    "                                                     'CAMEO_INTL_2015' ].index)\n",
    "new_row_1 = {'attribute'         : 'CAMEO_INTL_2015_LIVE_STAGE',\n",
    "             'information_level' : 'microcell_rr4',\n",
    "             'type'              : 'mixed',\n",
    "             'missing_or_unknown': '[NaN]'}\n",
    "new_row_2 = {'attribute'         : 'CAMEO_INTL_2015_WEALTH',\n",
    "             'information_level' : 'microcell_rr4',\n",
    "             'type'              : 'mixed',\n",
    "             'missing_or_unknown': '[NaN]'}\n",
    "feat_info_roc_mixed.loc[len(feat_info_roc_mixed)] = new_row_1\n",
    "feat_info_roc_mixed.loc[len(feat_info_roc_mixed)] = new_row_2"
   ]
  },
  {
   "cell_type": "code",
   "execution_count": null,
   "metadata": {},
   "outputs": [],
   "source": [
    "######################################################\n",
    "##  OLD VERSION OF Finalize the last two features of type 'object' ##\n",
    "######################################################\n",
    "\n",
    "sel_objects = list(azdias_nan_roc_lo_miss_cat_mix.select_dtypes(include='object'))\n",
    "\n",
    "print(f\"[INFO] At this stage of the data wrangling, we are left with {azdias_nan_roc_lo_miss_cat_mix.shape[1]} features.\")\n",
    "print(f\"       We still need to do some processing on 2 of them as they are of data type 'object'.\")\n",
    "print(f\"       These two features of data type 'object' are:\")\n",
    "print(f\"         {sel_objects}\")\n",
    "\n",
    "# Substitute the remaining \"X' strings of feature 'CAMEO_DEUG_2015' by NaN\n",
    "azdias_nan_roc_lo_miss_cat_mix.loc[azdias_nan_roc_lo_miss_cat_mix['CAMEO_DEUG_2015'] == 'X', 'CAMEO_DEUG_2015'] = np.nan\n",
    "if VERBOSE > 2:\n",
    "    print(f\"This is to verify that they are no 'X' sting left in the feature encoding.\")\n",
    "    x_test = azdias_nan_roc_lo_miss_mixed[azdias_nan_roc_lo_miss_cat_mix['CAMEO_DEUG_2015'] == 'X']\n",
    "    print(f\"\\t {x_test.shape}\")\n",
    "\n",
    "# And convert the column 'CAMEO_DEUG_2015' to float values\n",
    "azdias_nan_roc_lo_miss_cat_mix['CAMEO_DEUG_2015'] = azdias_nan_roc_lo_miss_cat_mix['CAMEO_DEUG_2015'].astype(float)    \n",
    "\n",
    "# Substitute the remaining \"XX' strings of feature 'CAMEO_DEU_2015' by NaN\n",
    "azdias_nan_roc_lo_miss_cat_mix.loc[azdias_nan_roc_lo_miss_cat_mix['CAMEO_DEU_2015'] == 'XX', 'CAMEO_DEU_2015'] = np.nan\n",
    "if VERBOSE > 2:\n",
    "    print(f\"This is to verify that they are no 'XX' sting left in the feature encoding.\")\n",
    "    xx_test = azdias_nan_roc_lo_miss_cat_mix[azdias_nan_roc_lo_miss_cat_mix['CAMEO_DEU_2015'] == 'XX']\n",
    "    print(f\"\\t {xx_test.shape}\")\n",
    "\n",
    "# And convert the column 'CAMEO_DEU_2015' from Hex string to Float values\n",
    "azdias_nan_roc_lo_miss_cat_mix['CAMEO_DEU_2015']  = azdias_nan_roc_lo_miss_cat_mix['CAMEO_DEU_2015'].apply(lambda x: int(x, 16) if isinstance(x, str) else x)\n",
    "                                                                 "
   ]
  },
  {
   "cell_type": "code",
   "execution_count": null,
   "metadata": {},
   "outputs": [],
   "source": [
    "#############################################################\n",
    "##  OLD VERSION OF Display a Summary of the Current State of the Dataset  ##\n",
    "#############################################################\n",
    "\n",
    "print(f\"[INFO] At this stage of the data wrangling, the dataset is ready for the analysis.\")\n",
    "print(f\"       The dataset is based on the subset with few or no missing values and it consists of: \")\n",
    "print(f\"           {azdias_nan_roc_lo_miss_mixed.shape[0]} rows x {azdias_nan_roc_lo_miss_mixed.shape[1]} columns\")\n",
    "\n",
    "# Select the column names which are of data type 'float'\n",
    "the_floats = list(azdias_nan_roc_lo_miss_mixed.select_dtypes(include='float'))\n",
    "the_ints   = list(azdias_nan_roc_lo_miss_mixed.select_dtypes(include='integer'))\n",
    "print(f\"           They are {len(the_floats)} features of type \\'float64\\' \")\n",
    "print(f\"           They are {len(the_ints)} features of type \\'int64\\' \")\n",
    "\n",
    "# List the feature types using 'groupby'\n",
    "col_types = azdias_nan_roc_lo_miss_mixed.columns.to_series().groupby(azdias_nan_roc_lo_miss_mixed.dtypes).groups\n",
    "print(f\"       The list of \\'int64\\' and \\'float64\\' type of features is:\")\n",
    "print(f\"           {col_types}\")"
   ]
  },
  {
   "cell_type": "code",
   "execution_count": 5,
   "metadata": {},
   "outputs": [
    {
     "name": "stdout",
     "output_type": "stream",
     "text": [
      "    Column1   Column2   Column3   Column4\n",
      "0  0.392576  0.574581  0.315205  0.219052\n",
      "1  0.213140  0.191725  0.904416  0.732138\n",
      "2  0.762318  0.593024  0.403223  0.918397\n",
      "3  0.747560  0.864854  0.963748  0.684387\n",
      "4  0.154061  0.974686  0.486039  0.125368\n",
      "5  0.270498  0.783489  0.767684  0.941355\n",
      "6  0.079698  0.211891  0.774843  0.440037\n",
      "7  0.955934  0.187775  0.764306  0.784983\n",
      "8  0.791888  0.615231  0.553751  0.852408\n",
      "9  0.569419  0.703028  0.160965  0.432905\n"
     ]
    },
    {
     "data": {
      "image/png": "[encoded data removed]",
      "text/plain": [
       "<Figure size 1000x600 with 4 Axes>"
      ]
     },
     "metadata": {},
     "output_type": "display_data"
    }
   ],
   "source": [
    "import pandas as pd\n",
    "import numpy as np\n",
    "import matplotlib.pyplot as plt\n",
    "\n",
    "# Creating a dictionary with column names as keys and random data as values\n",
    "data = {\n",
    "    'Column1': np.random.rand(10),\n",
    "    'Column2': np.random.rand(10),\n",
    "    'Column3': np.random.rand(10),\n",
    "    'Column4': np.random.rand(10)\n",
    "}\n",
    "\n",
    "# Creating the dataframe\n",
    "df = pd.DataFrame(data)\n",
    "print(df)\n",
    "\n",
    "# Assuming you have a dataframe called 'df'\n",
    "fig, axes = plt.subplots(nrows=2, ncols=2, figsize=(10, 6))\n",
    "\n",
    "# Plotting the first subplot as a bar plot\n",
    "df['Column1'].plot(kind='bar', ax=axes[0, 0])\n",
    "axes[0, 0].set_title('Subplot 1')\n",
    "\n",
    "# Plotting the second subplot as a bar plot\n",
    "df['Column2'].plot(kind='bar', ax=axes[0, 1])\n",
    "axes[0, 1].set_title('Subplot 2')\n",
    "\n",
    "# Plotting the third subplot as a bar plot\n",
    "df['Column3'].plot(kind='bar', ax=axes[1, 0])\n",
    "axes[1, 0].set_title('Subplot 3')\n",
    "\n",
    "# Plotting the fourth subplot as a bar plot\n",
    "df['Column4'].plot(kind='bar', ax=axes[1, 1])\n",
    "axes[1, 1].set_title('Subplot 4')\n",
    "\n",
    "# Adjusting the layout\n",
    "plt.tight_layout()\n",
    "\n",
    "# Displaying the subplots\n",
    "plt.show()"
   ]
  },
  {
   "cell_type": "code",
   "execution_count": null,
   "metadata": {},
   "outputs": [],
   "source": [
    "def plot_pca_results(full_dataset, pca, dim, verbose=0):\n",
    "    '''\n",
    "\tCreate a DataFrame of the PCA results\n",
    "\tIncludes dimension feature weights and explained variance\n",
    "\tVisualizes the PCA results\n",
    "\t'''        \n",
    "    # Retreive the matrix with the loadings of each feature on each principal\n",
    "    #  component. Fyi, each row corresponds to a principal component, and each\n",
    "    #  column corresponds to a feature.\n",
    "    feature_weights = pca.components_\n",
    "    if verbose > 2 :\n",
    "        print(f\"The shape of the PCA weight matrix is {pca.components_.shape} \")\n",
    "   \n",
    "    # Extract the weights of dimension 'd'\n",
    "    weights_dim_1 = feature_weights[0]\n",
    "    \n",
    "    # Take the absolute values of the weights\n",
    "    abs_weights = abs(weights_dim_1)\n",
    "\n",
    "    # Create a dataframe with the feature weights of dimension 1\n",
    "    feature_names = data_ss.columns\n",
    "    df_weights_dim_1 = pd.DataFrame(data=abs_weights, \n",
    "                                    columns=['Feature Weight'],\n",
    "                                    index=feature_names)\n",
    "\n",
    "    # Sort the dataframe by weights\n",
    "    df_weights_dim_1 = df_weights_dim_1.sort_values(by='Feature Weight',\n",
    "                                                    ascending=False)\n",
    "\n",
    "    # Select a set of top contributors\n",
    "    top_selection = (int)(pca.components_.shape[1]/4)\n",
    "    top_features = df_weights_dim_1[:top_selection]\n",
    "    \n",
    "    if verbose > 1:\n",
    "        print(top_features)\n",
    "\n",
    "    # Bar plot the weights \n",
    "    top_features.plot.bar()\n",
    "\n",
    "    # Set the title and labels for the plot\n",
    "    plt.title('Feature Weights of Dimension 1')\n",
    "    plt.xlabel('Features')\n",
    "    plt.ylabel('Weight')\n",
    "\n",
    "    # Rotate the x-axis labels by 45 degrees and dercreas font size\n",
    "    plt.xticks(rotation=45, fontsize=7)\n",
    "\n",
    "    # Display the plot\n",
    "    plt.show()\n",
    "    "
   ]
  }
 ],
 "metadata": {
  "kernelspec": {
   "display_name": ".venv",
   "language": "python",
   "name": "python3"
  },
  "language_info": {
   "codemirror_mode": {
    "name": "ipython",
    "version": 3
   },
   "file_extension": ".py",
   "mimetype": "text/x-python",
   "name": "python",
   "nbconvert_exporter": "python",
   "pygments_lexer": "ipython3",
   "version": "3.10.10"
  },
  "orig_nbformat": 4
 },
 "nbformat": 4,
 "nbformat_minor": 2
}
